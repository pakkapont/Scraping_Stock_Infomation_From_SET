{
 "cells": [
  {
   "cell_type": "markdown",
   "id": "89944876",
   "metadata": {},
   "source": [
    "# Web Scraping From SET"
   ]
  },
  {
   "cell_type": "markdown",
   "id": "d266df4f",
   "metadata": {},
   "source": [
    "setting to authorize this chromdrive can be opened"
   ]
  },
  {
   "cell_type": "markdown",
   "id": "51cc0ae2",
   "metadata": {},
   "source": [
    "command : xattr -d com.apple.quarantine \\<name-of-executable\\>"
   ]
  },
  {
   "cell_type": "code",
   "execution_count": null,
   "id": "2746f2ac",
   "metadata": {},
   "outputs": [],
   "source": [
    "!xattr -d com.apple.quarantine chromedriver"
   ]
  },
  {
   "cell_type": "markdown",
   "id": "2c9d99a8",
   "metadata": {},
   "source": [
    "## Web scraping"
   ]
  },
  {
   "cell_type": "code",
   "execution_count": 10,
   "id": "68c5f0af",
   "metadata": {},
   "outputs": [],
   "source": [
    "import pandas as pd\n",
    "from selenium import  webdriver\n",
    "import os"
   ]
  },
  {
   "cell_type": "markdown",
   "id": "d835b393",
   "metadata": {},
   "source": [
    "### Connect to chrome"
   ]
  },
  {
   "cell_type": "code",
   "execution_count": 4,
   "id": "82d2ad3e",
   "metadata": {},
   "outputs": [
    {
     "data": {
      "text/plain": [
       "<selenium.webdriver.chrome.webdriver.WebDriver (session=\"cb093f316d4d97db749b74a061d810b8\")>"
      ]
     },
     "execution_count": 4,
     "metadata": {},
     "output_type": "execute_result"
    }
   ],
   "source": [
    "driver = webdriver.Chrome(os.getcwd() + \"/chromedriver\")\n",
    "driver"
   ]
  },
  {
   "cell_type": "markdown",
   "id": "4ae26d6a",
   "metadata": {},
   "source": [
    "### Collect all company names from SET"
   ]
  },
  {
   "cell_type": "code",
   "execution_count": null,
   "id": "02405e56",
   "metadata": {},
   "outputs": [],
   "source": [
    "def get_all_company_names() : \n",
    "    list_page = [\"A\", \"B\", \"C\", \"D\", \"E\", \"F\", \"G\", \"H\", \"I\", \"J\", \"K\", \"L\", \"M\", \"N\", \"O\", \"P\", \"Q\", \"R\", \"S\", \"T\", \"U\", \"V\", \"W\", \"X\", \"Y\", \"Z\", \"NUMBER\"]\n",
    "    df_all_com_names = pd.DataFrame()\n",
    "\n",
    "    # open set.or.th to collect comppany names into dataframe\n",
    "    for p in list_page :\n",
    "        driver.get(\"https://classic.set.or.th/set/commonslookup.do?language=th&country=TH&prefix=\" + p)\n",
    "        page = driver.page_source #HTML\n",
    "        df_page = pd.read_html(page)[0] #HTML to Dataframe\n",
    "        df_all_com_names = df_all_com_names.append(df_page)\n",
    "    \n",
    "    # transform\n",
    "    df_all_com_names.set_index(\"ชื่อย่อหลักทรัพย์\", inplace=True)\n",
    "\n",
    "    # return dataframe\n",
    "    return df_all_com_names\n",
    "\n",
    "    "
   ]
  },
  {
   "cell_type": "code",
   "execution_count": null,
   "id": "80855cb2",
   "metadata": {},
   "outputs": [],
   "source": [
    "df_all_com_names = get_all_company_names()"
   ]
  },
  {
   "cell_type": "markdown",
   "id": "022329d8",
   "metadata": {},
   "source": [
    "check company names"
   ]
  },
  {
   "cell_type": "code",
   "execution_count": null,
   "id": "429c1972",
   "metadata": {},
   "outputs": [],
   "source": [
    "df_all_com_names.index"
   ]
  },
  {
   "cell_type": "markdown",
   "id": "091ea70c",
   "metadata": {},
   "source": [
    "### Collect stock information of each company"
   ]
  },
  {
   "cell_type": "code",
   "execution_count": null,
   "id": "5b0a9286",
   "metadata": {},
   "outputs": [],
   "source": [
    "# this symbols are difference format. it's stock fund.\n",
    "format_info_error = [\"CPNCG\", \"CPTGF\", \"ERWPF\", \"KPNPF\", \"LPF\", \"M-II\", \"M-STOR\", \"MNIT2\", \"POPF\", \"PPF\", \"SIRIP\", \"SSPF\", \"TLHPF\", \"TTLPF\"]\n",
    "\n",
    "df_com_names = df_all_com_names.drop(index=[format_info_error])"
   ]
  },
  {
   "cell_type": "code",
   "execution_count": null,
   "id": "f7f9da5f",
   "metadata": {},
   "outputs": [],
   "source": [
    "def get_stock_information() :   \n",
    "    \n",
    "    import time\n",
    "    start = time.time()\n",
    "    print(\"Start!!\")\n",
    "    \n",
    "    stock_information = pd.DataFrame()\n",
    "    stocks = df_com_names.index\n",
    "    \n",
    "    for stock in stocks :\n",
    "        if stock == \"F&D\" : \n",
    "            stock = \"F%26D\"\n",
    "        elif stock == \"L&E\" :\n",
    "            stock = \"L%26E\"\n",
    "            \n",
    "        url = f\"https://classic.set.or.th/set/factsheet.do?symbol={stock}&ssoPageId=3&language=th&country=TH\"\n",
    "        driver.get(url)\n",
    "        factsheet = driver.page_source\n",
    "        \n",
    "        # as = alias (stock symbol)\n",
    "        as_df = pd.read_html(factsheet)[2]\n",
    "        as_df.drop(columns=1, inplace=True)\n",
    "        as_df.columns = [\"ชื่อย่อหลักทรัพย์\"]\n",
    "        \n",
    "        if pd.read_html(factsheet, index_col=0)[9].iloc[0][1] == \"ข้อมูลเบื้องต้น\" :\n",
    "            # a_df = information\n",
    "            a_df = pd.read_html(factsheet, index_col=0)[9]\n",
    "            a_df = a_df.transpose()\n",
    "            a_df = a_df.iloc[[0]]\n",
    "            a_df = a_df[[\"ที่อยู่\", \"เบอร์โทรศัพท์\", \"เบอร์โทรสาร\", \"URL\", \"พาร์\"]]\n",
    "            a_df.reset_index(drop=True, inplace=True)\n",
    "        \n",
    "        elif pd.read_html(factsheet, index_col=0)[9].iloc[0][1] == \"ข่าวล่าสุด\" :\n",
    "            # a_df = information\n",
    "            a_df = pd.read_html(factsheet, index_col=0)[10]\n",
    "            a_df = a_df.transpose()\n",
    "            a_df = a_df.iloc[[0]]\n",
    "            a_df = a_df[[\"ที่อยู่\", \"เบอร์โทรศัพท์\", \"เบอร์โทรสาร\", \"URL\", \"พาร์\"]]\n",
    "            a_df.reset_index(drop=True, inplace=True)\n",
    "        \n",
    "\n",
    "        # b_df = industrial / category\n",
    "        b_df = pd.read_html(factsheet)[5]\n",
    "        b_df = b_df[0].str.split(r\"/\", expand=True)\n",
    "        b_df.rename(columns={0 : \"กลุ่มอุตสาหกรรม\", 1 : \"หมวดธุรกิจ\"}, inplace=True)\n",
    "        b_df = b_df.iloc[[0]]\n",
    "        \n",
    "        \n",
    "        if pd.read_html(factsheet, index_col=0)[18].iloc[0][1] == \"สะสม: อัตราหมุนเวียนปริมาณการซื้อขาย, มูลค่าซื้อขาย/วัน\" :\n",
    "            # c_df = statistical\n",
    "            c_df = pd.read_html(factsheet, index_col=0)[18]\n",
    "            c_df = c_df.transpose()\n",
    "            c_df.dropna(axis = 1, how = 'all', inplace=True)\n",
    "            c_df = c_df.iloc[[0]]\n",
    "            c_df.drop(columns=[\"สะสม: อัตราหมุนเวียนปริมาณการซื้อขาย, มูลค่าซื้อขาย/วัน\", \"ข้อมูลสถิติ\", \"อัตราผลตอบแทน\"], inplace=True)\n",
    "            c_df.reset_index(drop=True, inplace=True)\n",
    "            \n",
    "            # d_bg_df = biger shareholder\n",
    "            d_df = pd.read_html(factsheet)[16]\n",
    "            d_df.drop(columns=0, inplace=True)\n",
    "            d_df.columns = [d_df[1][0], d_df[2][0], d_df[3][0]]\n",
    "            d_df.drop(index=0, inplace=True)\n",
    "            d_df.reset_index(drop=True, inplace=True)\n",
    "            d_bg_df = d_df.iloc[[0]]\n",
    "            d_bg_df.columns = [\"ผู้ถือหุ้นรายใหญ่\", \"จำนวนหุ้น\", \"สัดส่วนหุ้น\"]\n",
    "\n",
    "        \n",
    "        elif pd.read_html(factsheet, index_col=0)[18].iloc[0][1] == \"คณะกรรมการ\" :\n",
    "            # c_df = statistical\n",
    "            c_df = pd.read_html(factsheet, index_col=0)[19]\n",
    "            c_df = c_df.transpose()\n",
    "            c_df.dropna(axis = 1, how = 'all', inplace=True)\n",
    "            c_df = c_df.iloc[[0]]\n",
    "            c_df.drop(columns=[\"สะสม: อัตราหมุนเวียนปริมาณการซื้อขาย, มูลค่าซื้อขาย/วัน\", \"ข้อมูลสถิติ\", \"อัตราผลตอบแทน\"], inplace=True)\n",
    "            c_df.reset_index(drop=True, inplace=True)\n",
    "\n",
    "            # d_bg_df = biger shareholder\n",
    "            d_df = pd.read_html(factsheet)[17]\n",
    "            d_df.drop(columns=0, inplace=True)\n",
    "            d_df.columns = [d_df[1][0], d_df[2][0], d_df[3][0]]\n",
    "            d_df.drop(index=0, inplace=True)\n",
    "            d_df.reset_index(drop=True, inplace=True)\n",
    "            d_bg_df = d_df.iloc[[0]]\n",
    "            d_bg_df.columns = [\"ผู้ถือหุ้นรายใหญ่\", \"จำนวนหุ้น\", \"สัดส่วนหุ้น\"]\n",
    "            \n",
    "    \n",
    "        elif pd.read_html(factsheet, index_col=0)[18].iloc[0][1] == \"การจ่ายปันผล\" :\n",
    "            # c_df = statistical\n",
    "            c_df = pd.read_html(factsheet, index_col=0)[17]\n",
    "            c_df = c_df.transpose()\n",
    "            c_df.dropna(axis = 1, how = 'all', inplace=True)\n",
    "            c_df = c_df.iloc[[0]]\n",
    "            c_df.drop(columns=[\"สะสม: อัตราหมุนเวียนปริมาณการซื้อขาย, มูลค่าซื้อขาย/วัน\", \"ข้อมูลสถิติ\", \"อัตราผลตอบแทน\"], inplace=True)\n",
    "            c_df.reset_index(drop=True, inplace=True)\n",
    "\n",
    "            # d_bg_df = biger shareholder\n",
    "            d_df = pd.read_html(factsheet)[15]\n",
    "            d_df.drop(columns=0, inplace=True)\n",
    "            d_df.columns = [d_df[1][0], d_df[2][0], d_df[3][0]]\n",
    "            d_df.drop(index=0, inplace=True)\n",
    "            d_df.reset_index(drop=True, inplace=True)\n",
    "            d_bg_df = d_df.iloc[[0]]\n",
    "            d_bg_df.columns = [\"ผู้ถือหุ้นรายใหญ่\", \"จำนวนหุ้น\", \"สัดส่วนหุ้น\"]\n",
    "            \n",
    "            \n",
    "        elif pd.read_html(factsheet, index_col=0)[18].iloc[0][1] == \"นางสาว กมลทิพย์ เลิศวิทย์วรเทพ/บริษัท สำนักงาน อีวาย จำกัด  นาย วิชาติ โลเกศกระวี/บริษัท สำนักงาน อีวาย จำกัด  นางสาว สาธิดา รัตนานุรักษ์/บริษัท สำนักงาน อีวาย จำกัด  นางสาว ศิริวรรณ นิตย์ดำรง/บริษัท สำนักงาน อีวาย จำกัด\" :\n",
    "            # c_df = statistical\n",
    "            c_df = pd.read_html(factsheet, index_col=0)[16]\n",
    "            c_df = c_df.transpose()\n",
    "            c_df.dropna(axis = 1, how = 'all', inplace=True)\n",
    "            c_df = c_df.iloc[[0]]\n",
    "            c_df.drop(columns=[\"สะสม: อัตราหมุนเวียนปริมาณการซื้อขาย, มูลค่าซื้อขาย/วัน\", \"ข้อมูลสถิติ\", \"อัตราผลตอบแทน\"], inplace=True)\n",
    "            c_df.reset_index(drop=True, inplace=True)\n",
    "\n",
    "            # d_bg_df = biger shareholder\n",
    "            d_df = pd.read_html(factsheet)[15]\n",
    "            d_df.drop(columns=0, inplace=True)\n",
    "            d_df.columns = [d_df[1][0], d_df[2][0], d_df[3][0]]\n",
    "            d_df.drop(index=0, inplace=True)\n",
    "            d_df.reset_index(drop=True, inplace=True)\n",
    "            d_bg_df = d_df.iloc[[0]]\n",
    "            d_bg_df.columns = [\"ผู้ถือหุ้นรายใหญ่\", \"จำนวนหุ้น\", \"สัดส่วนหุ้น\"]\n",
    "\n",
    "        \n",
    "        # e_df = financail highlight\n",
    "        driver.get(f\"https://classic.set.or.th/set/companyhighlight.do?symbol={stock}&language=th&country=TH\")\n",
    "        finance = driver.page_source\n",
    "        e_df = pd.read_html(finance,index_col=0)[0]\n",
    "        e_df = e_df.iloc[1:9]\n",
    "        e_df = e_df.transpose()\n",
    "        e_df = e_df.iloc[[-1]]\n",
    "        e_df.reset_index(drop=True, inplace=True)\n",
    "        \n",
    "        \n",
    "        # join dataframe\n",
    "        info = as_df.join([b_df, a_df, c_df, d_bg_df, e_df])\n",
    "\n",
    "        # append to stock_information\n",
    "        stock_information = stock_information.append(info)\n",
    "         \n",
    "    end = time.time()\n",
    "    print(\"Done!!!\", end - start, \"second\")\n",
    "        \n",
    "    return stock_information\n"
   ]
  },
  {
   "cell_type": "code",
   "execution_count": null,
   "id": "ba5e732a",
   "metadata": {},
   "outputs": [],
   "source": [
    "stock_information = get_stock_information()"
   ]
  },
  {
   "cell_type": "code",
   "execution_count": null,
   "id": "74000234",
   "metadata": {},
   "outputs": [],
   "source": [
    "stock_information"
   ]
  },
  {
   "cell_type": "code",
   "execution_count": null,
   "id": "9e17c2bc",
   "metadata": {},
   "outputs": [],
   "source": [
    "stock_information.to_csv(os.getcwd() + \"/Output/company_names.csv\", index=False, encoding=\"utf-8\")"
   ]
  }
 ],
 "metadata": {
  "kernelspec": {
   "display_name": "Python 3 (ipykernel)",
   "language": "python",
   "name": "python3"
  },
  "language_info": {
   "codemirror_mode": {
    "name": "ipython",
    "version": 3
   },
   "file_extension": ".py",
   "mimetype": "text/x-python",
   "name": "python",
   "nbconvert_exporter": "python",
   "pygments_lexer": "ipython3",
   "version": "3.9.7"
  }
 },
 "nbformat": 4,
 "nbformat_minor": 5
}
